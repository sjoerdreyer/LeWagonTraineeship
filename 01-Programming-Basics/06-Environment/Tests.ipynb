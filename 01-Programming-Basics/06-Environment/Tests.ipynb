{
 "cells": [
  {
   "cell_type": "code",
   "execution_count": 4,
   "id": "5f7c7bd2",
   "metadata": {},
   "outputs": [
    {
     "name": "stdout",
     "output_type": "stream",
     "text": [
      "/Users/sjoerddewit\n"
     ]
    }
   ],
   "source": [
    "import os\n",
    "print(os.environ['HOME'])"
   ]
  },
  {
   "cell_type": "code",
   "execution_count": 5,
   "id": "22986512",
   "metadata": {},
   "outputs": [
    {
     "name": "stdout",
     "output_type": "stream",
     "text": [
      "TERM_PROGRAM: Apple_Terminal\n",
      "PYENV_ROOT: /Users/sjoerddewit/.pyenv\n",
      "SHELL: /bin/zsh\n",
      "TERM: xterm-color\n",
      "TMPDIR: /var/folders/fk/b6p2kjv927g82pgl5sgqrr7w0000gn/T/\n",
      "GOOGLE_APPLICATION_CREDENTIALS: /Users/sjoerddewit/Downloads/augmented-tract-356013-d30f14e89212.json\n",
      "TERM_PROGRAM_VERSION: 445\n",
      "TERM_SESSION_ID: 572EF522-E25F-4B75-A4DF-649771FE1D91\n",
      "LC_ALL: en_US.UTF-8\n",
      "PYTHONBREAKPOINT: ipdb.set_trace\n",
      "NVM_DIR: /Users/sjoerddewit/.nvm\n",
      "USER: sjoerddewit\n",
      "HOMEBREW_NO_ANALYTICS: 1\n",
      "SSH_AUTH_SOCK: /private/tmp/com.apple.launchd.sTGA8s2v1E/Listeners\n",
      "PYENV_VIRTUALENV_DISABLE_PROMPT: 1\n",
      "PYENV_VIRTUALENV_INIT: 1\n",
      "VIRTUAL_ENV: /Users/sjoerddewit/.pyenv/versions/3.8.12/envs/lewagon\n",
      "PAGER: cat\n",
      "PYENV_VIRTUAL_ENV: /Users/sjoerddewit/.pyenv/versions/3.8.12/envs/lewagon\n",
      "LSCOLORS: Gxfxcxdxbxegedabagacad\n",
      "PATH: /opt/homebrew/Caskroom/google-cloud-sdk/latest/google-cloud-sdk/bin:./bin:./node_modules/.bin:/usr/local/Cellar/pyenv-virtualenv/1.1.5/shims:/Users/sjoerddewit/.pyenv/shims:/Users/sjoerddewit/.rbenv/bin:/Users/sjoerddewit/.pyenv/bin:/usr/local/bin:/usr/bin:/bin:/usr/sbin:/sbin:/usr/local/sbin\n",
      "LaunchInstanceID: A1B78753-B40C-40F9-B56F-BAFB8F1F7F46\n",
      "__CFBundleIdentifier: com.apple.Terminal\n",
      "PWD: /Users/sjoerddewit/code/sjoerdreyer/data-challenges/01-Python/01-Programming-Basics/06-Environment\n",
      "EDITOR: code\n",
      "LANG: en_US.UTF-8\n",
      "XPC_FLAGS: 0x0\n",
      "XPC_SERVICE_NAME: 0\n",
      "PYENV_SHELL: zsh\n",
      "SHLVL: 2\n",
      "HOME: /Users/sjoerddewit\n",
      "BUNDLER_EDITOR: code\n",
      "LESS: -R\n",
      "LOGNAME: sjoerddewit\n",
      "LC_CTYPE: UTF-8\n",
      "SECURITYSESSIONID: 186b1\n",
      "_: /Users/sjoerddewit/Applications/anaconda3/bin/jupyter-notebook\n",
      "__CF_USER_TEXT_ENCODING: 0x1F5:0x0:0x0\n",
      "PYDEVD_USE_FRAME_EVAL: NO\n",
      "JPY_PARENT_PID: 27326\n",
      "CLICOLOR: 1\n",
      "GIT_PAGER: cat\n",
      "MPLBACKEND: module://matplotlib_inline.backend_inline\n"
     ]
    }
   ],
   "source": [
    "import os\n",
    "\n",
    "for item, value in os.environ.items():\n",
    "    print('{}: {}'.format(item, value))"
   ]
  },
  {
   "cell_type": "code",
   "execution_count": 2,
   "id": "a520e888",
   "metadata": {},
   "outputs": [],
   "source": [
    "family = {'sister': 'Toscha'}"
   ]
  },
  {
   "cell_type": "code",
   "execution_count": 9,
   "id": "99185fad",
   "metadata": {},
   "outputs": [],
   "source": [
    "family['sister'] = 'Tosch'"
   ]
  },
  {
   "cell_type": "code",
   "execution_count": 10,
   "id": "00d86547",
   "metadata": {},
   "outputs": [
    {
     "data": {
      "text/plain": [
       "{'sister': 'Tosch'}"
      ]
     },
     "execution_count": 10,
     "metadata": {},
     "output_type": "execute_result"
    }
   ],
   "source": [
    "family"
   ]
  },
  {
   "cell_type": "code",
   "execution_count": 11,
   "id": "a26fe360",
   "metadata": {},
   "outputs": [
    {
     "data": {
      "text/plain": [
       "{'sister': 'Tosch'}"
      ]
     },
     "execution_count": 11,
     "metadata": {},
     "output_type": "execute_result"
    }
   ],
   "source": [
    "family"
   ]
  },
  {
   "cell_type": "code",
   "execution_count": 12,
   "id": "d636f8b6",
   "metadata": {},
   "outputs": [],
   "source": [
    "del family['sister']"
   ]
  },
  {
   "cell_type": "code",
   "execution_count": 13,
   "id": "9f16b028",
   "metadata": {},
   "outputs": [
    {
     "data": {
      "text/plain": [
       "{}"
      ]
     },
     "execution_count": 13,
     "metadata": {},
     "output_type": "execute_result"
    }
   ],
   "source": [
    "family"
   ]
  },
  {
   "cell_type": "code",
   "execution_count": 20,
   "id": "9d47a995",
   "metadata": {},
   "outputs": [
    {
     "name": "stdout",
     "output_type": "stream",
     "text": [
      "Name: Tosch\n",
      "Today you turned: 25\n"
     ]
    },
    {
     "data": {
      "text/plain": [
       "'Hello Tosch! Today you turned 25 years old! Happy birthday!!!!!!!!!'"
      ]
     },
     "execution_count": 20,
     "metadata": {},
     "output_type": "execute_result"
    }
   ],
   "source": [
    "name = input('Name: ')\n",
    "age = input(\"Today you turned: \")\n",
    "\n",
    "\n",
    "'Hello {0}! Today you turned {1} years old! Happy birthday!!!!!!!!!'.format(name, age)\n",
    "\n"
   ]
  },
  {
   "cell_type": "code",
   "execution_count": 160,
   "id": "42a06900",
   "metadata": {},
   "outputs": [],
   "source": [
    "grid = [\n",
    "    [7,8,4,  1,5,9,  3,2,6],\n",
    "    [5,3,9,  6,7,2,  8,4,1],\n",
    "    [6,1,2,  4,3,8,  7,5,9],\n",
    "\n",
    "    [9,2,8,  7,1,5,  4,6,3],\n",
    "    [3,5,7,  8,4,6,  1,9,2],\n",
    "    [4,6,1,  9,2,3,  5,8,7],\n",
    "\n",
    "    [8,7,6,  3,9,4,  2,1,5],\n",
    "    [2,4,3,  5,6,1,  9,7,8],\n",
    "    [1,9,5,  2,8,7,  6,3,4]\n",
    "]\n",
    "\n",
    "grid2 = [\n",
    "            [7,8,4,  1,5,9,  3,2,6],\n",
    "            [5,3,9,  6,2,7,  8,4,1],\n",
    "            [6,1,2,  4,3,8,  7,5,9],\n",
    "    \n",
    "            [9,2,8,  7,1,5,  4,6,3],\n",
    "            [3,5,7,  8,4,6,  1,9,2],\n",
    "            [4,6,1,  9,2,3,  5,8,7],\n",
    "    \n",
    "            [8,7,6,  3,9,4,  2,1,5],\n",
    "            [2,4,3,  5,6,1,  9,7,8],\n",
    "            [1,9,5,  2,8,7,  6,3,4]\n",
    "        ]\n"
   ]
  },
  {
   "cell_type": "code",
   "execution_count": 177,
   "id": "ad255c8d",
   "metadata": {},
   "outputs": [
    {
     "data": {
      "text/plain": [
       "[[7, 5, 6, 9, 3, 4, 8, 2, 1],\n",
       " [8, 3, 1, 2, 5, 6, 7, 4, 9],\n",
       " [4, 9, 2, 8, 7, 1, 6, 3, 5],\n",
       " [1, 6, 4, 7, 8, 9, 3, 5, 2],\n",
       " [5, 7, 3, 1, 4, 2, 9, 6, 8],\n",
       " [9, 2, 8, 5, 6, 3, 4, 1, 7],\n",
       " [3, 8, 7, 4, 1, 5, 2, 9, 6],\n",
       " [2, 4, 5, 6, 9, 8, 1, 7, 3],\n",
       " [6, 1, 9, 3, 2, 7, 5, 8, 4]]"
      ]
     },
     "execution_count": 177,
     "metadata": {},
     "output_type": "execute_result"
    }
   ],
   "source": [
    "inverted_grid = [list(x) for x in zip(grid[0], grid[1], grid[2], grid[3], grid[4], grid[5], grid[6], grid[7], grid[8])]\n",
    "inverted_grid\n"
   ]
  },
  {
   "cell_type": "code",
   "execution_count": 183,
   "id": "30c6f4f8",
   "metadata": {
    "scrolled": true
   },
   "outputs": [
    {
     "name": "stdout",
     "output_type": "stream",
     "text": [
      "[7, 8, 4]\n",
      "[7, 8, 4, 5, 3, 9]\n",
      "[7, 8, 4, 5, 3, 9, 6, 1, 2]\n",
      "[1, 5, 9]\n",
      "[1, 5, 9, 6, 7, 2]\n",
      "[1, 5, 9, 6, 7, 2, 4, 3, 8]\n",
      "[3, 2, 6]\n",
      "[3, 2, 6, 8, 4, 1]\n",
      "[3, 2, 6, 8, 4, 1, 7, 5, 9]\n",
      "[9, 2, 8]\n",
      "[9, 2, 8, 3, 5, 7]\n",
      "[9, 2, 8, 3, 5, 7, 4, 6, 1]\n",
      "[7, 1, 5]\n",
      "[7, 1, 5, 8, 4, 6]\n",
      "[7, 1, 5, 8, 4, 6, 9, 2, 3]\n",
      "[4, 6, 3]\n",
      "[4, 6, 3, 1, 9, 2]\n",
      "[4, 6, 3, 1, 9, 2, 5, 8, 7]\n",
      "[8, 7, 6]\n",
      "[8, 7, 6, 2, 4, 3]\n",
      "[8, 7, 6, 2, 4, 3, 1, 9, 5]\n",
      "[3, 9, 4]\n",
      "[3, 9, 4, 5, 6, 1]\n",
      "[3, 9, 4, 5, 6, 1, 2, 8, 7]\n",
      "[2, 1, 5]\n",
      "[2, 1, 5, 9, 7, 8]\n",
      "[2, 1, 5, 9, 7, 8, 6, 3, 4]\n",
      "[[7, 8, 4, 5, 3, 9, 6, 1, 2], [1, 5, 9, 6, 7, 2, 4, 3, 8], [3, 2, 6, 8, 4, 1, 7, 5, 9], [9, 2, 8, 3, 5, 7, 4, 6, 1], [7, 1, 5, 8, 4, 6, 9, 2, 3], [4, 6, 3, 1, 9, 2, 5, 8, 7], [8, 7, 6, 2, 4, 3, 1, 9, 5], [3, 9, 4, 5, 6, 1, 2, 8, 7], [2, 1, 5, 9, 7, 8, 6, 3, 4]]\n"
     ]
    }
   ],
   "source": [
    "t_by_t = []\n",
    "for cel_row in range(0, 9, 3):\n",
    "    for cel_col in range(0, 9, 3):\n",
    "        grid_three = grid[cel_row][cel_col: cel_col+3]\n",
    "        print(grid_three)\n",
    "        grid_three.extend(grid[cel_row+1] [cel_col: cel_col+3])\n",
    "        print(grid_three)\n",
    "        grid_three.extend(grid[cel_row+2] [cel_col: cel_col+3])\n",
    "        print(grid_three)\n",
    "        t_by_t.append(grid_three)\n",
    "        \n",
    "print(t_by_t)"
   ]
  },
  {
   "cell_type": "code",
   "execution_count": 180,
   "id": "ae6ea183",
   "metadata": {},
   "outputs": [],
   "source": [
    "def sudoku_validator(grid):\n",
    "    '''\n",
    "    returns True if a sudoku grid is valid, and false otherwise\n",
    "    '''\n",
    "    row = True\n",
    "    column = True\n",
    "    box_9 = True\n",
    "\n",
    "    inverted_grid = [list(x) for x in zip(grid[0], grid[1], grid[2],\n",
    "                                          grid[3], grid[4], grid[5],\n",
    "                                          grid[6], grid[7], grid[8])]\n",
    "    t_by_t = []\n",
    "\n",
    "    for cel_row in range(0, 9, 3):\n",
    "        for cel_col in range(0, 9, 3):\n",
    "            grid_three = grid[cel_row][cel_col: cel_col+3]\n",
    "            grid_three.extend(grid[cel_row+1] [cel_col: cel_col+3])\n",
    "            grid_three.extend(grid[cel_row+2] [cel_col: cel_col+3])\n",
    "            t_by_t.append(grid_three)\n",
    "\n",
    "    for row_ in range(9):\n",
    "        if len(set(grid[row_])) != 9:\n",
    "            row = False\n",
    "\n",
    "    for col in range(9):\n",
    "        if len(set(inverted_grid[col])) != 9:\n",
    "            column = False\n",
    "\n",
    "    for grid_ in range(9):\n",
    "        if len(set(t_by_t[grid_])) != 9:\n",
    "            box_9 = False\n",
    "\n",
    "    if row is True and column is True and box_9 is True:\n",
    "        return True\n",
    "    return False\n"
   ]
  },
  {
   "cell_type": "code",
   "execution_count": 181,
   "id": "a598350b",
   "metadata": {},
   "outputs": [
    {
     "data": {
      "text/plain": [
       "True"
      ]
     },
     "execution_count": 181,
     "metadata": {},
     "output_type": "execute_result"
    }
   ],
   "source": [
    "sudoku_validator(grid)"
   ]
  },
  {
   "cell_type": "code",
   "execution_count": 26,
   "id": "eaa1f766",
   "metadata": {},
   "outputs": [
    {
     "data": {
      "text/plain": [
       "5"
      ]
     },
     "execution_count": 26,
     "metadata": {},
     "output_type": "execute_result"
    }
   ],
   "source": [
    "grid[0][0]\n",
    "grid[0][1]\n",
    "grid[0][2]\n",
    "\n",
    "grid[1][0]\n",
    "grid[1][1]\n",
    "grid[1][2]\n",
    "\n",
    "grid[2][0]\n",
    "grid[2][1]\n",
    "grid[2][2]"
   ]
  },
  {
   "cell_type": "code",
   "execution_count": 28,
   "id": "5c2368d2",
   "metadata": {},
   "outputs": [
    {
     "data": {
      "text/plain": [
       "8"
      ]
     },
     "execution_count": 28,
     "metadata": {},
     "output_type": "execute_result"
    }
   ],
   "source": [
    "grid[0][3]\n",
    "grid[0][4]\n",
    "grid[0][5]\n",
    "\n",
    "grid[1][3]\n",
    "grid[1][4]\n",
    "grid[1][5]\n",
    "\n",
    "grid[2][3]\n",
    "grid[2][4]\n",
    "grid[2][5]"
   ]
  },
  {
   "cell_type": "code",
   "execution_count": null,
   "id": "b1390d4d",
   "metadata": {},
   "outputs": [],
   "source": []
  }
 ],
 "metadata": {
  "kernelspec": {
   "display_name": "Python 3 (ipykernel)",
   "language": "python",
   "name": "python3"
  },
  "language_info": {
   "codemirror_mode": {
    "name": "ipython",
    "version": 3
   },
   "file_extension": ".py",
   "mimetype": "text/x-python",
   "name": "python",
   "nbconvert_exporter": "python",
   "pygments_lexer": "ipython3",
   "version": "3.9.12"
  },
  "toc": {
   "base_numbering": 1,
   "nav_menu": {},
   "number_sections": true,
   "sideBar": true,
   "skip_h1_title": false,
   "title_cell": "Table of Contents",
   "title_sidebar": "Contents",
   "toc_cell": false,
   "toc_position": {},
   "toc_section_display": true,
   "toc_window_display": false
  }
 },
 "nbformat": 4,
 "nbformat_minor": 5
}
